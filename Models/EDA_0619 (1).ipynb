{
  "nbformat": 4,
  "nbformat_minor": 0,
  "metadata": {
    "colab": {
      "name": "EDA_0619.ipynb",
      "provenance": [],
      "collapsed_sections": [],
      "background_execution": "on"
    },
    "kernelspec": {
      "name": "python3",
      "display_name": "Python 3"
    },
    "language_info": {
      "name": "python"
    },
    "accelerator": "GPU",
    "gpuClass": "standard"
  },
  "cells": [
    {
      "cell_type": "code",
      "execution_count": 1,
      "metadata": {
        "id": "_oU2AFQ01nD_"
      },
      "outputs": [],
      "source": [
        "import pandas as pd\n",
        "import numpy as np\n",
        "import matplotlib.pyplot as plt\n",
        "import seaborn as sns\n",
        "from glob import glob\n",
        "from PIL import Image\n",
        "import warnings\n",
        "import PIL.Image\n",
        "warnings.filterwarnings(action='ignore')"
      ]
    },
    {
      "cell_type": "code",
      "source": [
        "# Train Image Load 함수\n",
        "def load_image(path):\n",
        "\n",
        "    path = path\n",
        "    images = []\n",
        "    for filename in glob(path +\"*\"):\n",
        "        #print(filename)\n",
        "        for img in glob(filename):\n",
        "            #print(img)\n",
        "            an_img = PIL.Image.open(img) #read img\n",
        "            img_array = np.array(an_img) #img to array\n",
        "            images.append(img_array) #append array to training_images\n",
        "    images = np.array(images)\n",
        "\n",
        "    return images"
      ],
      "metadata": {
        "id": "5Nt17MCB4TIj"
      },
      "execution_count": 2,
      "outputs": []
    },
    {
      "cell_type": "code",
      "source": [
        "# Train Image 시각화 함수\n",
        "def show_image(image):\n",
        "  img_rgb = image\n",
        "\n",
        "  plt.figure(figsize=(10, 2))\n",
        "\n",
        "  plt.subplot(141)\n",
        "  plt.imshow(img_rgb[50:200, 50:200, :])\n",
        "  plt.axis(\"off\")\n",
        "  plt.title(\"RGB Image\")\n",
        "\n",
        "  plt.subplot(142)\n",
        "  plt.imshow(img_rgb[:, :, 0], cmap=plt.cm.bone)\n",
        "  plt.axis(\"off\")\n",
        "  plt.title(\"R channel\")\n",
        "\n",
        "  plt.subplot(143)\n",
        "  plt.imshow(img_rgb[:, :, 1], cmap=plt.cm.bone)\n",
        "  plt.axis(\"off\")\n",
        "  plt.title(\"G channel\")\n",
        "\n",
        "  plt.subplot(144)\n",
        "  plt.imshow(img_rgb[:, :, 2], cmap=plt.cm.bone)\n",
        "  plt.axis(\"off\")\n",
        "  plt.title(\"B channel\")\n",
        "\n",
        "  plt.show()"
      ],
      "metadata": {
        "id": "JAwtHxNO54Ut"
      },
      "execution_count": 3,
      "outputs": []
    },
    {
      "cell_type": "code",
      "source": [
        "### Load Hand Language Dataset"
      ],
      "metadata": {
        "id": "YmtSPBMo1nmu"
      },
      "execution_count": 4,
      "outputs": []
    },
    {
      "cell_type": "code",
      "source": [
        "from google.colab import drive\n",
        "drive.mount('/content/gdrive')\n",
        "\n",
        "PATH = \"/content/gdrive/My Drive/dataset/hand_language_dataset/\"\n",
        "image_label_df = pd.read_csv(PATH + 'train.csv') # Image의 Label 정보를 담고 있는 csv 파일 로드"
      ],
      "metadata": {
        "colab": {
          "base_uri": "https://localhost:8080/"
        },
        "id": "lZrwWcy41pqs",
        "outputId": "6247687e-fe4f-4051-bab0-7a909d8fafe2"
      },
      "execution_count": 5,
      "outputs": [
        {
          "output_type": "stream",
          "name": "stdout",
          "text": [
            "Drive already mounted at /content/gdrive; to attempt to forcibly remount, call drive.mount(\"/content/gdrive\", force_remount=True).\n"
          ]
        }
      ]
    },
    {
      "cell_type": "code",
      "source": [
        "image_label_df.head()"
      ],
      "metadata": {
        "colab": {
          "base_uri": "https://localhost:8080/",
          "height": 206
        },
        "id": "wx-mwinq2lj7",
        "outputId": "dbcfb3e5-08b8-4fbe-ed54-12cc52142ee1"
      },
      "execution_count": 6,
      "outputs": [
        {
          "output_type": "execute_result",
          "data": {
            "text/plain": [
              "  file_name label\n",
              "0   001.png  10-2\n",
              "1   002.png  10-1\n",
              "2   003.png     3\n",
              "3   004.png     8\n",
              "4   005.png     9"
            ],
            "text/html": [
              "\n",
              "  <div id=\"df-bb91c53f-9d94-47a2-baf6-e68d1280bced\">\n",
              "    <div class=\"colab-df-container\">\n",
              "      <div>\n",
              "<style scoped>\n",
              "    .dataframe tbody tr th:only-of-type {\n",
              "        vertical-align: middle;\n",
              "    }\n",
              "\n",
              "    .dataframe tbody tr th {\n",
              "        vertical-align: top;\n",
              "    }\n",
              "\n",
              "    .dataframe thead th {\n",
              "        text-align: right;\n",
              "    }\n",
              "</style>\n",
              "<table border=\"1\" class=\"dataframe\">\n",
              "  <thead>\n",
              "    <tr style=\"text-align: right;\">\n",
              "      <th></th>\n",
              "      <th>file_name</th>\n",
              "      <th>label</th>\n",
              "    </tr>\n",
              "  </thead>\n",
              "  <tbody>\n",
              "    <tr>\n",
              "      <th>0</th>\n",
              "      <td>001.png</td>\n",
              "      <td>10-2</td>\n",
              "    </tr>\n",
              "    <tr>\n",
              "      <th>1</th>\n",
              "      <td>002.png</td>\n",
              "      <td>10-1</td>\n",
              "    </tr>\n",
              "    <tr>\n",
              "      <th>2</th>\n",
              "      <td>003.png</td>\n",
              "      <td>3</td>\n",
              "    </tr>\n",
              "    <tr>\n",
              "      <th>3</th>\n",
              "      <td>004.png</td>\n",
              "      <td>8</td>\n",
              "    </tr>\n",
              "    <tr>\n",
              "      <th>4</th>\n",
              "      <td>005.png</td>\n",
              "      <td>9</td>\n",
              "    </tr>\n",
              "  </tbody>\n",
              "</table>\n",
              "</div>\n",
              "      <button class=\"colab-df-convert\" onclick=\"convertToInteractive('df-bb91c53f-9d94-47a2-baf6-e68d1280bced')\"\n",
              "              title=\"Convert this dataframe to an interactive table.\"\n",
              "              style=\"display:none;\">\n",
              "        \n",
              "  <svg xmlns=\"http://www.w3.org/2000/svg\" height=\"24px\"viewBox=\"0 0 24 24\"\n",
              "       width=\"24px\">\n",
              "    <path d=\"M0 0h24v24H0V0z\" fill=\"none\"/>\n",
              "    <path d=\"M18.56 5.44l.94 2.06.94-2.06 2.06-.94-2.06-.94-.94-2.06-.94 2.06-2.06.94zm-11 1L8.5 8.5l.94-2.06 2.06-.94-2.06-.94L8.5 2.5l-.94 2.06-2.06.94zm10 10l.94 2.06.94-2.06 2.06-.94-2.06-.94-.94-2.06-.94 2.06-2.06.94z\"/><path d=\"M17.41 7.96l-1.37-1.37c-.4-.4-.92-.59-1.43-.59-.52 0-1.04.2-1.43.59L10.3 9.45l-7.72 7.72c-.78.78-.78 2.05 0 2.83L4 21.41c.39.39.9.59 1.41.59.51 0 1.02-.2 1.41-.59l7.78-7.78 2.81-2.81c.8-.78.8-2.07 0-2.86zM5.41 20L4 18.59l7.72-7.72 1.47 1.35L5.41 20z\"/>\n",
              "  </svg>\n",
              "      </button>\n",
              "      \n",
              "  <style>\n",
              "    .colab-df-container {\n",
              "      display:flex;\n",
              "      flex-wrap:wrap;\n",
              "      gap: 12px;\n",
              "    }\n",
              "\n",
              "    .colab-df-convert {\n",
              "      background-color: #E8F0FE;\n",
              "      border: none;\n",
              "      border-radius: 50%;\n",
              "      cursor: pointer;\n",
              "      display: none;\n",
              "      fill: #1967D2;\n",
              "      height: 32px;\n",
              "      padding: 0 0 0 0;\n",
              "      width: 32px;\n",
              "    }\n",
              "\n",
              "    .colab-df-convert:hover {\n",
              "      background-color: #E2EBFA;\n",
              "      box-shadow: 0px 1px 2px rgba(60, 64, 67, 0.3), 0px 1px 3px 1px rgba(60, 64, 67, 0.15);\n",
              "      fill: #174EA6;\n",
              "    }\n",
              "\n",
              "    [theme=dark] .colab-df-convert {\n",
              "      background-color: #3B4455;\n",
              "      fill: #D2E3FC;\n",
              "    }\n",
              "\n",
              "    [theme=dark] .colab-df-convert:hover {\n",
              "      background-color: #434B5C;\n",
              "      box-shadow: 0px 1px 3px 1px rgba(0, 0, 0, 0.15);\n",
              "      filter: drop-shadow(0px 1px 2px rgba(0, 0, 0, 0.3));\n",
              "      fill: #FFFFFF;\n",
              "    }\n",
              "  </style>\n",
              "\n",
              "      <script>\n",
              "        const buttonEl =\n",
              "          document.querySelector('#df-bb91c53f-9d94-47a2-baf6-e68d1280bced button.colab-df-convert');\n",
              "        buttonEl.style.display =\n",
              "          google.colab.kernel.accessAllowed ? 'block' : 'none';\n",
              "\n",
              "        async function convertToInteractive(key) {\n",
              "          const element = document.querySelector('#df-bb91c53f-9d94-47a2-baf6-e68d1280bced');\n",
              "          const dataTable =\n",
              "            await google.colab.kernel.invokeFunction('convertToInteractive',\n",
              "                                                     [key], {});\n",
              "          if (!dataTable) return;\n",
              "\n",
              "          const docLinkHtml = 'Like what you see? Visit the ' +\n",
              "            '<a target=\"_blank\" href=https://colab.research.google.com/notebooks/data_table.ipynb>data table notebook</a>'\n",
              "            + ' to learn more about interactive tables.';\n",
              "          element.innerHTML = '';\n",
              "          dataTable['output_type'] = 'display_data';\n",
              "          await google.colab.output.renderOutput(dataTable, element);\n",
              "          const docLink = document.createElement('div');\n",
              "          docLink.innerHTML = docLinkHtml;\n",
              "          element.appendChild(docLink);\n",
              "        }\n",
              "      </script>\n",
              "    </div>\n",
              "  </div>\n",
              "  "
            ]
          },
          "metadata": {},
          "execution_count": 6
        }
      ]
    },
    {
      "cell_type": "markdown",
      "source": [
        "### Load Training IMG"
      ],
      "metadata": {
        "id": "U5B-kybt4lh3"
      }
    },
    {
      "cell_type": "code",
      "source": [
        "# 학습시킬 Image Data Load\n",
        "training_images = load_image(path= '/content/gdrive/My Drive/dataset/hand_language_dataset/train/')"
      ],
      "metadata": {
        "id": "m4oKitgw4kwh"
      },
      "execution_count": 7,
      "outputs": []
    },
    {
      "cell_type": "code",
      "source": [
        "print(\"Image Shape: (count, high pixel, width pixel, channels)\")\n",
        "print(\"train 이미지 크기:\", training_images.shape)\n",
        "print(\"train 라벨 크기:\", image_label_df.shape)\n"
      ],
      "metadata": {
        "colab": {
          "base_uri": "https://localhost:8080/"
        },
        "id": "7RJAWAvm4rG8",
        "outputId": "fff44184-5959-4088-e19c-7be5a638b5a5"
      },
      "execution_count": 8,
      "outputs": [
        {
          "output_type": "stream",
          "name": "stdout",
          "text": [
            "Image Shape: (count, high pixel, width pixel, channels)\n",
            "train 이미지 크기: (858, 224, 224, 3)\n",
            "train 라벨 크기: (858, 2)\n"
          ]
        }
      ]
    },
    {
      "cell_type": "code",
      "source": [
        "show_image(training_images[3])"
      ],
      "metadata": {
        "colab": {
          "base_uri": "https://localhost:8080/",
          "height": 156
        },
        "id": "_-M4Pkyl6JFj",
        "outputId": "377def82-5fc5-49f5-9880-c434459ae984"
      },
      "execution_count": 9,
      "outputs": [
        {
          "output_type": "display_data",
          "data": {
            "text/plain": [
              "<Figure size 720x144 with 4 Axes>"
            ],
            "image/png": "[encoded data removed]"
          },
          "metadata": {
            "needs_background": "light"
          }
        }
      ]
    },
    {
      "cell_type": "code",
      "source": [
        ""
      ],
      "metadata": {
        "id": "lUIigFuY6NPj"
      },
      "execution_count": 9,
      "outputs": []
    },
    {
      "cell_type": "markdown",
      "source": [
        "# 데이터에 존재하는 Label 확인"
      ],
      "metadata": {
        "id": "tGhnikBg7QDb"
      }
    },
    {
      "cell_type": "code",
      "source": [
        "print(np.unique(image_label_df.label))\n"
      ],
      "metadata": {
        "colab": {
          "base_uri": "https://localhost:8080/"
        },
        "id": "U8JqQhMz7Rca",
        "outputId": "054e4925-6a4f-40d7-93a2-89d54b9d845f"
      },
      "execution_count": 10,
      "outputs": [
        {
          "output_type": "stream",
          "name": "stdout",
          "text": [
            "['1' '10-1' '10-2' '2' '3' '4' '5' '6' '7' '8' '9']\n"
          ]
        }
      ]
    },
    {
      "cell_type": "code",
      "source": [
        "plt.figure(figsize=[10,5])\n",
        "sns.countplot(image_label_df.label.ravel())\n",
        "plt.title('Distribution of training data')\n",
        "plt.xlabel('Classes')\n",
        "plt.show()"
      ],
      "metadata": {
        "colab": {
          "base_uri": "https://localhost:8080/",
          "height": 350
        },
        "id": "Oa4zNljO7RrG",
        "outputId": "6c130eee-f160-4b0c-8131-e5677e6f1b85"
      },
      "execution_count": 11,
      "outputs": [
        {
          "output_type": "display_data",
          "data": {
            "text/plain": [
              "<Figure size 720x360 with 1 Axes>"
            ],
            "image/png": "[encoded data removed]"
          },
          "metadata": {
            "needs_background": "light"
          }
        }
      ]
    },
    {
      "cell_type": "markdown",
      "source": [
        "# 데이터에 Label Value 정수형으로 변환\n"
      ],
      "metadata": {
        "id": "92ELFEOg8Ca1"
      }
    },
    {
      "cell_type": "code",
      "source": [
        "image_label_df['label'][image_label_df['label'] == '10-1'] = 10 ## label : 10-1 -> 10\n",
        "image_label_df['label'][image_label_df['label'] == '10-2'] = 0 ## Label : 10-2 -> 0\n",
        "image_label_df['label'] = image_label_df['label'].apply(lambda x : int(x)) ## Dtype : object -> int"
      ],
      "metadata": {
        "id": "tAU414CL7daK"
      },
      "execution_count": 12,
      "outputs": []
    },
    {
      "cell_type": "code",
      "source": [
        "plt.figure(figsize=[10,5])\n",
        "sns.countplot(image_label_df.label.ravel())\n",
        "plt.title('Distribution of training data')\n",
        "plt.xlabel('Classes')\n",
        "plt.show()"
      ],
      "metadata": {
        "colab": {
          "base_uri": "https://localhost:8080/",
          "height": 350
        },
        "id": "bM4t8fvU76v5",
        "outputId": "4b9142db-07b9-4543-93cd-9cff8b2f61a0"
      },
      "execution_count": 13,
      "outputs": [
        {
          "output_type": "display_data",
          "data": {
            "text/plain": [
              "<Figure size 720x360 with 1 Axes>"
            ],
            "image/png": "[encoded data removed]"
          },
          "metadata": {
            "needs_background": "light"
          }
        }
      ]
    },
    {
      "cell_type": "code",
      "source": [
        "#print(np.unique(image_label_df.label))\n",
        "\n",
        "image_label_df.iloc[:,1]"
      ],
      "metadata": {
        "colab": {
          "base_uri": "https://localhost:8080/"
        },
        "id": "hSgl6qot8AgK",
        "outputId": "450d47f8-c819-4fe1-d849-1983cc37d49d"
      },
      "execution_count": 14,
      "outputs": [
        {
          "output_type": "execute_result",
          "data": {
            "text/plain": [
              "0       0\n",
              "1      10\n",
              "2       3\n",
              "3       8\n",
              "4       9\n",
              "       ..\n",
              "853     9\n",
              "854     1\n",
              "855     4\n",
              "856    10\n",
              "857     7\n",
              "Name: label, Length: 858, dtype: int64"
            ]
          },
          "metadata": {},
          "execution_count": 14
        }
      ]
    },
    {
      "cell_type": "code",
      "source": [
        "\n",
        "from tensorflow.keras.utils import to_categorical\n",
        "datax = training_images\n",
        "datay = image_label_df.iloc[:,1]\n",
        "datay_onehot = to_categorical(datay)\n"
      ],
      "metadata": {
        "id": "_hp-bCiYQ_qG"
      },
      "execution_count": 15,
      "outputs": []
    },
    {
      "cell_type": "code",
      "source": [
        "print(datax.shape)\n",
        "print(datay.shape)\n",
        "print(datay_onehot)\n",
        "print(datay_onehot.shape)"
      ],
      "metadata": {
        "id": "_5UN8Sui8FM_",
        "colab": {
          "base_uri": "https://localhost:8080/"
        },
        "outputId": "0013910f-aa78-41bb-aa81-93b55a68d0c1"
      },
      "execution_count": 16,
      "outputs": [
        {
          "output_type": "stream",
          "name": "stdout",
          "text": [
            "(858, 224, 224, 3)\n",
            "(858,)\n",
            "[[1. 0. 0. ... 0. 0. 0.]\n",
            " [0. 0. 0. ... 0. 0. 1.]\n",
            " [0. 0. 0. ... 0. 0. 0.]\n",
            " ...\n",
            " [0. 0. 0. ... 0. 0. 0.]\n",
            " [0. 0. 0. ... 0. 0. 1.]\n",
            " [0. 0. 0. ... 0. 0. 0.]]\n",
            "(858, 11)\n"
          ]
        }
      ]
    },
    {
      "cell_type": "code",
      "source": [
        "from sklearn.model_selection import train_test_split\n",
        "trnx, tstx, trny, tsty = train_test_split(datax, datay_onehot, test_size = 0.3, random_state =111)\n",
        "print(f\"trnx.shape: {trnx.shape}\")\n",
        "print(f\"tstx.shape: {tstx.shape}\")\n",
        "print(f\"trny.shape: {trny.shape}\")\n",
        "print(f\"tsty.shape: {tsty.shape}\")"
      ],
      "metadata": {
        "colab": {
          "base_uri": "https://localhost:8080/"
        },
        "id": "8rkKUVkDSeM7",
        "outputId": "d62c52f1-ba8a-4d79-990c-13ec8be785d6"
      },
      "execution_count": 21,
      "outputs": [
        {
          "output_type": "stream",
          "name": "stdout",
          "text": [
            "trnx.shape: (600, 224, 224, 3)\n",
            "tstx.shape: (258, 224, 224, 3)\n",
            "trny.shape: (600, 11)\n",
            "tsty.shape: (258, 11)\n"
          ]
        }
      ]
    },
    {
      "cell_type": "code",
      "source": [
        "from tensorflow.keras import layers, models, optimizers\n",
        "input_shape = (trnx.shape[2],trnx.shape[1],3)\n",
        "print(input_shape)\n",
        "cnn_model = models.Sequential()\n",
        "\n",
        "cnn_model.add(layers.Conv2D(8,(2,2), padding='same', input_shape=input_shape))\n",
        "cnn_model.add(layers.BatchNormalization())\n",
        "cnn_model.add(layers.Activation(\"relu\"))\n",
        "cnn_model.add(layers.MaxPooling2D((2,2)))\n",
        "\n",
        "cnn_model.add(layers.Conv2D(16,(2,2), padding='same'))\n",
        "cnn_model.add(layers.BatchNormalization())\n",
        "cnn_model.add(layers.Activation(\"relu\"))\n",
        "cnn_model.add(layers.Dropout(0.2))\n",
        "cnn_model.add(layers.MaxPooling2D((2,2)))\n",
        "\n",
        "\n",
        "cnn_model.add(layers.Conv2D(24,(3,3), padding='same'))\n",
        "cnn_model.add(layers.BatchNormalization())\n",
        "cnn_model.add(layers.Activation(\"relu\"))\n",
        "cnn_model.add(layers.Dropout(0.2))\n",
        "cnn_model.add(layers.MaxPooling2D((2,2)))\n",
        "\n",
        "\n",
        "cnn_model.add(layers.Conv2D(32,(4,4), padding='same'))\n",
        "cnn_model.add(layers.BatchNormalization())\n",
        "cnn_model.add(layers.Activation(\"relu\"))\n",
        "cnn_model.add(layers.Dropout(0.2))\n",
        "cnn_model.add(layers.MaxPooling2D((2,2)))\n",
        "\n",
        "cnn_model.add(layers.Flatten())\n",
        "\n",
        "cnn_model.add(layers.Dense(units = 1000, activation = \"relu\"))\n",
        "cnn_model.add(layers.Dense(units = 11, activation = \"softmax\"))\n",
        "\n",
        "cnn_model.compile(optimizer = 'Adam', loss = 'categorical_crossentropy', metrics=['accuracy'])"
      ],
      "metadata": {
        "colab": {
          "base_uri": "https://localhost:8080/"
        },
        "id": "egn2yUJESuGe",
        "outputId": "f4051cc1-c63d-4e1d-ac79-74f0e94b25ee"
      },
      "execution_count": 33,
      "outputs": [
        {
          "output_type": "stream",
          "name": "stdout",
          "text": [
            "(224, 224, 3)\n"
          ]
        }
      ]
    },
    {
      "cell_type": "code",
      "source": [
        "# 입력값들을 CNN에 넣기 위해 4D tensor로 변환 (row, height, width, depth)\n",
        "trnx_reshaped = trnx.reshape(-1,trnx.shape[2],trnx.shape[1],3)\n",
        "tstx_reshaped = tstx.reshape(-1,tstx.shape[2],tstx.shape[1],3)\n",
        "print(trnx_reshaped.shape)\n",
        "print(tstx_reshaped.shape)\n",
        "print(trny.shape)\n",
        "print(tsty.shape)\n",
        "\n",
        "cnn_model.summary()"
      ],
      "metadata": {
        "colab": {
          "base_uri": "https://localhost:8080/"
        },
        "id": "JW1AzHmlTfWQ",
        "outputId": "eecbc738-f0cb-4c42-cb06-f14750dfc699"
      },
      "execution_count": 34,
      "outputs": [
        {
          "output_type": "stream",
          "name": "stdout",
          "text": [
            "(600, 224, 224, 3)\n",
            "(258, 224, 224, 3)\n",
            "(600, 11)\n",
            "(258, 11)\n",
            "Model: \"sequential_4\"\n",
            "_________________________________________________________________\n",
            " Layer (type)                Output Shape              Param #   \n",
            "=================================================================\n",
            " conv2d_10 (Conv2D)          (None, 224, 224, 8)       104       \n",
            "                                                                 \n",
            " batch_normalization_10 (Bat  (None, 224, 224, 8)      32        \n",
            " chNormalization)                                                \n",
            "                                                                 \n",
            " activation_10 (Activation)  (None, 224, 224, 8)       0         \n",
            "                                                                 \n",
            " max_pooling2d_10 (MaxPoolin  (None, 112, 112, 8)      0         \n",
            " g2D)                                                            \n",
            "                                                                 \n",
            " conv2d_11 (Conv2D)          (None, 112, 112, 16)      528       \n",
            "                                                                 \n",
            " batch_normalization_11 (Bat  (None, 112, 112, 16)     64        \n",
            " chNormalization)                                                \n",
            "                                                                 \n",
            " activation_11 (Activation)  (None, 112, 112, 16)      0         \n",
            "                                                                 \n",
            " dropout_6 (Dropout)         (None, 112, 112, 16)      0         \n",
            "                                                                 \n",
            " max_pooling2d_11 (MaxPoolin  (None, 56, 56, 16)       0         \n",
            " g2D)                                                            \n",
            "                                                                 \n",
            " conv2d_12 (Conv2D)          (None, 56, 56, 24)        3480      \n",
            "                                                                 \n",
            " batch_normalization_12 (Bat  (None, 56, 56, 24)       96        \n",
            " chNormalization)                                                \n",
            "                                                                 \n",
            " activation_12 (Activation)  (None, 56, 56, 24)        0         \n",
            "                                                                 \n",
            " dropout_7 (Dropout)         (None, 56, 56, 24)        0         \n",
            "                                                                 \n",
            " max_pooling2d_12 (MaxPoolin  (None, 28, 28, 24)       0         \n",
            " g2D)                                                            \n",
            "                                                                 \n",
            " conv2d_13 (Conv2D)          (None, 28, 28, 32)        12320     \n",
            "                                                                 \n",
            " batch_normalization_13 (Bat  (None, 28, 28, 32)       128       \n",
            " chNormalization)                                                \n",
            "                                                                 \n",
            " activation_13 (Activation)  (None, 28, 28, 32)        0         \n",
            "                                                                 \n",
            " dropout_8 (Dropout)         (None, 28, 28, 32)        0         \n",
            "                                                                 \n",
            " max_pooling2d_13 (MaxPoolin  (None, 14, 14, 32)       0         \n",
            " g2D)                                                            \n",
            "                                                                 \n",
            " flatten_4 (Flatten)         (None, 6272)              0         \n",
            "                                                                 \n",
            " dense_8 (Dense)             (None, 1000)              6273000   \n",
            "                                                                 \n",
            " dense_9 (Dense)             (None, 11)                11011     \n",
            "                                                                 \n",
            "=================================================================\n",
            "Total params: 6,300,763\n",
            "Trainable params: 6,300,603\n",
            "Non-trainable params: 160\n",
            "_________________________________________________________________\n"
          ]
        }
      ]
    },
    {
      "cell_type": "code",
      "source": [
        "histroy = cnn_model.fit(trnx_reshaped, trny, validation_data = [tstx_reshaped,tsty], batch_size = 32, epochs = 100)"
      ],
      "metadata": {
        "colab": {
          "base_uri": "https://localhost:8080/"
        },
        "id": "Kz9YptS_Trin",
        "outputId": "1a143f87-e296-4fba-fd4d-cc64dba63a4b"
      },
      "execution_count": 35,
      "outputs": [
        {
          "output_type": "stream",
          "name": "stdout",
          "text": [
            "Epoch 1/100\n",
            "19/19 [==============================] - 2s 51ms/step - loss: 15.2573 - accuracy: 0.0817 - val_loss: 5.1599 - val_accuracy: 0.1085\n",
            "Epoch 2/100\n",
            "19/19 [==============================] - 1s 34ms/step - loss: 2.6616 - accuracy: 0.1100 - val_loss: 2.7308 - val_accuracy: 0.1047\n",
            "Epoch 3/100\n",
            "19/19 [==============================] - 1s 38ms/step - loss: 2.3534 - accuracy: 0.1617 - val_loss: 2.5336 - val_accuracy: 0.0891\n",
            "Epoch 4/100\n",
            "19/19 [==============================] - 1s 34ms/step - loss: 2.2436 - accuracy: 0.2100 - val_loss: 2.4685 - val_accuracy: 0.0930\n",
            "Epoch 5/100\n",
            "19/19 [==============================] - 1s 33ms/step - loss: 2.1716 - accuracy: 0.2333 - val_loss: 2.4377 - val_accuracy: 0.1202\n",
            "Epoch 6/100\n",
            "19/19 [==============================] - 1s 34ms/step - loss: 2.1802 - accuracy: 0.2400 - val_loss: 2.4315 - val_accuracy: 0.0543\n",
            "Epoch 7/100\n",
            "19/19 [==============================] - 1s 38ms/step - loss: 2.0709 - accuracy: 0.2950 - val_loss: 2.4425 - val_accuracy: 0.1163\n",
            "Epoch 8/100\n",
            "19/19 [==============================] - 1s 38ms/step - loss: 2.0302 - accuracy: 0.2867 - val_loss: 2.5140 - val_accuracy: 0.0853\n",
            "Epoch 9/100\n",
            "19/19 [==============================] - 1s 34ms/step - loss: 1.9315 - accuracy: 0.3067 - val_loss: 2.4933 - val_accuracy: 0.0698\n",
            "Epoch 10/100\n",
            "19/19 [==============================] - 1s 33ms/step - loss: 1.8211 - accuracy: 0.3883 - val_loss: 2.5378 - val_accuracy: 0.0930\n",
            "Epoch 11/100\n",
            "19/19 [==============================] - 1s 33ms/step - loss: 1.7282 - accuracy: 0.4150 - val_loss: 2.5466 - val_accuracy: 0.1008\n",
            "Epoch 12/100\n",
            "19/19 [==============================] - 1s 38ms/step - loss: 1.6598 - accuracy: 0.4267 - val_loss: 2.5056 - val_accuracy: 0.0930\n",
            "Epoch 13/100\n",
            "19/19 [==============================] - 1s 33ms/step - loss: 1.5803 - accuracy: 0.4633 - val_loss: 2.5975 - val_accuracy: 0.0736\n",
            "Epoch 14/100\n",
            "19/19 [==============================] - 1s 34ms/step - loss: 1.4532 - accuracy: 0.5283 - val_loss: 2.6318 - val_accuracy: 0.0853\n",
            "Epoch 15/100\n",
            "19/19 [==============================] - 1s 38ms/step - loss: 1.4330 - accuracy: 0.5267 - val_loss: 2.6143 - val_accuracy: 0.1008\n",
            "Epoch 16/100\n",
            "19/19 [==============================] - 1s 34ms/step - loss: 1.3219 - accuracy: 0.5567 - val_loss: 2.6117 - val_accuracy: 0.1085\n",
            "Epoch 17/100\n",
            "19/19 [==============================] - 1s 34ms/step - loss: 1.1915 - accuracy: 0.6083 - val_loss: 2.7566 - val_accuracy: 0.0969\n",
            "Epoch 18/100\n",
            "19/19 [==============================] - 1s 38ms/step - loss: 1.0947 - accuracy: 0.6483 - val_loss: 2.7471 - val_accuracy: 0.0969\n",
            "Epoch 19/100\n",
            "19/19 [==============================] - 1s 34ms/step - loss: 0.9455 - accuracy: 0.7100 - val_loss: 2.7180 - val_accuracy: 0.1047\n",
            "Epoch 20/100\n",
            "19/19 [==============================] - 1s 34ms/step - loss: 0.9019 - accuracy: 0.7183 - val_loss: 2.9154 - val_accuracy: 0.0930\n",
            "Epoch 21/100\n",
            "19/19 [==============================] - 1s 33ms/step - loss: 0.8351 - accuracy: 0.7317 - val_loss: 2.8656 - val_accuracy: 0.0775\n",
            "Epoch 22/100\n",
            "19/19 [==============================] - 1s 33ms/step - loss: 0.7141 - accuracy: 0.8100 - val_loss: 2.8949 - val_accuracy: 0.1279\n",
            "Epoch 23/100\n",
            "19/19 [==============================] - 1s 34ms/step - loss: 0.6474 - accuracy: 0.8133 - val_loss: 2.9854 - val_accuracy: 0.1240\n",
            "Epoch 24/100\n",
            "19/19 [==============================] - 1s 34ms/step - loss: 0.5736 - accuracy: 0.8333 - val_loss: 3.0458 - val_accuracy: 0.0969\n",
            "Epoch 25/100\n",
            "19/19 [==============================] - 1s 34ms/step - loss: 0.5836 - accuracy: 0.8267 - val_loss: 2.9533 - val_accuracy: 0.1008\n",
            "Epoch 26/100\n",
            "19/19 [==============================] - 1s 34ms/step - loss: 0.4660 - accuracy: 0.8717 - val_loss: 3.1950 - val_accuracy: 0.1047\n",
            "Epoch 27/100\n",
            "19/19 [==============================] - 1s 34ms/step - loss: 0.3955 - accuracy: 0.8900 - val_loss: 3.1583 - val_accuracy: 0.1008\n",
            "Epoch 28/100\n",
            "19/19 [==============================] - 1s 34ms/step - loss: 0.3726 - accuracy: 0.9000 - val_loss: 3.2567 - val_accuracy: 0.1085\n",
            "Epoch 29/100\n",
            "19/19 [==============================] - 1s 34ms/step - loss: 0.3255 - accuracy: 0.9100 - val_loss: 3.2127 - val_accuracy: 0.1047\n",
            "Epoch 30/100\n",
            "19/19 [==============================] - 1s 35ms/step - loss: 0.3110 - accuracy: 0.9083 - val_loss: 3.3743 - val_accuracy: 0.1008\n",
            "Epoch 31/100\n",
            "19/19 [==============================] - 1s 34ms/step - loss: 0.2602 - accuracy: 0.9283 - val_loss: 3.4018 - val_accuracy: 0.1008\n",
            "Epoch 32/100\n",
            "19/19 [==============================] - 1s 34ms/step - loss: 0.2440 - accuracy: 0.9350 - val_loss: 3.4662 - val_accuracy: 0.0969\n",
            "Epoch 33/100\n",
            "19/19 [==============================] - 1s 38ms/step - loss: 0.2911 - accuracy: 0.9233 - val_loss: 3.4532 - val_accuracy: 0.1202\n",
            "Epoch 34/100\n",
            "19/19 [==============================] - 1s 34ms/step - loss: 0.2665 - accuracy: 0.9317 - val_loss: 3.6093 - val_accuracy: 0.0969\n",
            "Epoch 35/100\n",
            "19/19 [==============================] - 1s 34ms/step - loss: 0.2581 - accuracy: 0.9283 - val_loss: 3.4477 - val_accuracy: 0.1085\n",
            "Epoch 36/100\n",
            "19/19 [==============================] - 1s 35ms/step - loss: 0.2296 - accuracy: 0.9267 - val_loss: 3.5239 - val_accuracy: 0.1008\n",
            "Epoch 37/100\n",
            "19/19 [==============================] - 1s 34ms/step - loss: 0.2470 - accuracy: 0.9317 - val_loss: 3.6688 - val_accuracy: 0.0930\n",
            "Epoch 38/100\n",
            "19/19 [==============================] - 1s 34ms/step - loss: 0.2228 - accuracy: 0.9350 - val_loss: 3.7855 - val_accuracy: 0.0814\n",
            "Epoch 39/100\n",
            "19/19 [==============================] - 1s 34ms/step - loss: 0.2410 - accuracy: 0.9283 - val_loss: 3.7366 - val_accuracy: 0.1240\n",
            "Epoch 40/100\n",
            "19/19 [==============================] - 1s 35ms/step - loss: 0.2057 - accuracy: 0.9433 - val_loss: 3.6211 - val_accuracy: 0.1085\n",
            "Epoch 41/100\n",
            "19/19 [==============================] - 1s 35ms/step - loss: 0.1583 - accuracy: 0.9517 - val_loss: 3.8664 - val_accuracy: 0.1008\n",
            "Epoch 42/100\n",
            "19/19 [==============================] - 1s 39ms/step - loss: 0.1713 - accuracy: 0.9483 - val_loss: 3.7406 - val_accuracy: 0.1163\n",
            "Epoch 43/100\n",
            "19/19 [==============================] - 1s 34ms/step - loss: 0.1734 - accuracy: 0.9433 - val_loss: 3.9521 - val_accuracy: 0.1163\n",
            "Epoch 44/100\n",
            "19/19 [==============================] - 1s 38ms/step - loss: 0.1744 - accuracy: 0.9433 - val_loss: 3.5297 - val_accuracy: 0.0969\n",
            "Epoch 45/100\n",
            "19/19 [==============================] - 1s 38ms/step - loss: 0.1411 - accuracy: 0.9650 - val_loss: 3.9713 - val_accuracy: 0.1163\n",
            "Epoch 46/100\n",
            "19/19 [==============================] - 1s 34ms/step - loss: 0.2039 - accuracy: 0.9333 - val_loss: 3.9257 - val_accuracy: 0.1047\n",
            "Epoch 47/100\n",
            "19/19 [==============================] - 1s 34ms/step - loss: 0.1912 - accuracy: 0.9350 - val_loss: 3.8267 - val_accuracy: 0.1124\n",
            "Epoch 48/100\n",
            "19/19 [==============================] - 1s 39ms/step - loss: 0.2032 - accuracy: 0.9333 - val_loss: 3.9929 - val_accuracy: 0.1163\n",
            "Epoch 49/100\n",
            "19/19 [==============================] - 1s 34ms/step - loss: 0.1799 - accuracy: 0.9417 - val_loss: 3.9731 - val_accuracy: 0.1395\n",
            "Epoch 50/100\n",
            "19/19 [==============================] - 1s 33ms/step - loss: 0.1412 - accuracy: 0.9633 - val_loss: 3.9861 - val_accuracy: 0.1124\n",
            "Epoch 51/100\n",
            "19/19 [==============================] - 1s 34ms/step - loss: 0.1336 - accuracy: 0.9583 - val_loss: 4.0369 - val_accuracy: 0.1085\n",
            "Epoch 52/100\n",
            "19/19 [==============================] - 1s 38ms/step - loss: 0.1187 - accuracy: 0.9633 - val_loss: 4.0205 - val_accuracy: 0.1202\n",
            "Epoch 53/100\n",
            "19/19 [==============================] - 1s 34ms/step - loss: 0.1444 - accuracy: 0.9533 - val_loss: 3.9279 - val_accuracy: 0.1202\n",
            "Epoch 54/100\n",
            "19/19 [==============================] - 1s 34ms/step - loss: 0.1317 - accuracy: 0.9517 - val_loss: 4.0810 - val_accuracy: 0.1357\n",
            "Epoch 55/100\n",
            "19/19 [==============================] - 1s 34ms/step - loss: 0.1616 - accuracy: 0.9467 - val_loss: 4.0453 - val_accuracy: 0.1163\n",
            "Epoch 56/100\n",
            "19/19 [==============================] - 1s 34ms/step - loss: 0.1169 - accuracy: 0.9583 - val_loss: 4.1776 - val_accuracy: 0.0814\n",
            "Epoch 57/100\n",
            "19/19 [==============================] - 1s 38ms/step - loss: 0.1233 - accuracy: 0.9650 - val_loss: 4.0353 - val_accuracy: 0.1357\n",
            "Epoch 58/100\n",
            "19/19 [==============================] - 1s 34ms/step - loss: 0.1170 - accuracy: 0.9617 - val_loss: 4.4023 - val_accuracy: 0.0969\n",
            "Epoch 59/100\n",
            "19/19 [==============================] - 1s 38ms/step - loss: 0.1552 - accuracy: 0.9600 - val_loss: 4.3528 - val_accuracy: 0.1008\n",
            "Epoch 60/100\n",
            "19/19 [==============================] - 1s 34ms/step - loss: 0.1616 - accuracy: 0.9500 - val_loss: 4.0758 - val_accuracy: 0.0930\n",
            "Epoch 61/100\n",
            "19/19 [==============================] - 1s 34ms/step - loss: 0.1344 - accuracy: 0.9500 - val_loss: 4.4172 - val_accuracy: 0.1163\n",
            "Epoch 62/100\n",
            "19/19 [==============================] - 1s 37ms/step - loss: 0.1136 - accuracy: 0.9633 - val_loss: 3.9888 - val_accuracy: 0.1202\n",
            "Epoch 63/100\n",
            "19/19 [==============================] - 1s 37ms/step - loss: 0.0998 - accuracy: 0.9617 - val_loss: 4.3265 - val_accuracy: 0.1085\n",
            "Epoch 64/100\n",
            "19/19 [==============================] - 1s 39ms/step - loss: 0.0964 - accuracy: 0.9683 - val_loss: 4.4024 - val_accuracy: 0.1163\n",
            "Epoch 65/100\n",
            "19/19 [==============================] - 1s 41ms/step - loss: 0.0792 - accuracy: 0.9667 - val_loss: 4.2456 - val_accuracy: 0.1240\n",
            "Epoch 66/100\n",
            "19/19 [==============================] - 1s 40ms/step - loss: 0.1155 - accuracy: 0.9667 - val_loss: 4.3565 - val_accuracy: 0.0969\n",
            "Epoch 67/100\n",
            "19/19 [==============================] - 1s 34ms/step - loss: 0.1112 - accuracy: 0.9533 - val_loss: 4.0655 - val_accuracy: 0.1008\n",
            "Epoch 68/100\n",
            "19/19 [==============================] - 1s 34ms/step - loss: 0.0979 - accuracy: 0.9633 - val_loss: 4.3893 - val_accuracy: 0.1047\n",
            "Epoch 69/100\n",
            "19/19 [==============================] - 1s 34ms/step - loss: 0.1043 - accuracy: 0.9600 - val_loss: 4.3271 - val_accuracy: 0.0969\n",
            "Epoch 70/100\n",
            "19/19 [==============================] - 1s 38ms/step - loss: 0.1450 - accuracy: 0.9583 - val_loss: 4.1497 - val_accuracy: 0.1163\n",
            "Epoch 71/100\n",
            "19/19 [==============================] - 1s 34ms/step - loss: 0.1148 - accuracy: 0.9617 - val_loss: 4.2737 - val_accuracy: 0.1124\n",
            "Epoch 72/100\n",
            "19/19 [==============================] - 1s 34ms/step - loss: 0.0884 - accuracy: 0.9633 - val_loss: 4.1418 - val_accuracy: 0.1008\n",
            "Epoch 73/100\n",
            "19/19 [==============================] - 1s 35ms/step - loss: 0.0692 - accuracy: 0.9700 - val_loss: 4.5834 - val_accuracy: 0.1124\n",
            "Epoch 74/100\n",
            "19/19 [==============================] - 1s 38ms/step - loss: 0.0892 - accuracy: 0.9667 - val_loss: 4.4957 - val_accuracy: 0.1163\n",
            "Epoch 75/100\n",
            "19/19 [==============================] - 1s 34ms/step - loss: 0.0768 - accuracy: 0.9683 - val_loss: 4.5669 - val_accuracy: 0.1047\n",
            "Epoch 76/100\n",
            "19/19 [==============================] - 1s 39ms/step - loss: 0.0993 - accuracy: 0.9717 - val_loss: 4.7008 - val_accuracy: 0.0891\n",
            "Epoch 77/100\n",
            "19/19 [==============================] - 1s 34ms/step - loss: 0.0870 - accuracy: 0.9650 - val_loss: 4.3214 - val_accuracy: 0.1202\n",
            "Epoch 78/100\n",
            "19/19 [==============================] - 1s 34ms/step - loss: 0.0964 - accuracy: 0.9717 - val_loss: 4.4242 - val_accuracy: 0.1163\n",
            "Epoch 79/100\n",
            "19/19 [==============================] - 1s 34ms/step - loss: 0.1035 - accuracy: 0.9700 - val_loss: 4.4401 - val_accuracy: 0.1202\n",
            "Epoch 80/100\n",
            "19/19 [==============================] - 1s 38ms/step - loss: 0.0725 - accuracy: 0.9667 - val_loss: 4.4393 - val_accuracy: 0.1202\n",
            "Epoch 81/100\n",
            "19/19 [==============================] - 1s 38ms/step - loss: 0.0764 - accuracy: 0.9750 - val_loss: 4.2785 - val_accuracy: 0.1085\n",
            "Epoch 82/100\n",
            "19/19 [==============================] - 1s 35ms/step - loss: 0.0599 - accuracy: 0.9733 - val_loss: 4.3637 - val_accuracy: 0.1240\n",
            "Epoch 83/100\n",
            "19/19 [==============================] - 1s 34ms/step - loss: 0.0786 - accuracy: 0.9717 - val_loss: 4.3636 - val_accuracy: 0.1124\n",
            "Epoch 84/100\n",
            "19/19 [==============================] - 1s 38ms/step - loss: 0.0668 - accuracy: 0.9700 - val_loss: 4.4514 - val_accuracy: 0.1124\n",
            "Epoch 85/100\n",
            "19/19 [==============================] - 1s 34ms/step - loss: 0.0755 - accuracy: 0.9733 - val_loss: 4.3597 - val_accuracy: 0.1008\n",
            "Epoch 86/100\n",
            "19/19 [==============================] - 1s 35ms/step - loss: 0.0621 - accuracy: 0.9750 - val_loss: 4.2636 - val_accuracy: 0.1202\n",
            "Epoch 87/100\n",
            "19/19 [==============================] - 1s 34ms/step - loss: 0.0768 - accuracy: 0.9717 - val_loss: 4.5211 - val_accuracy: 0.1240\n",
            "Epoch 88/100\n",
            "19/19 [==============================] - 1s 34ms/step - loss: 0.0685 - accuracy: 0.9767 - val_loss: 4.5551 - val_accuracy: 0.0969\n",
            "Epoch 89/100\n",
            "19/19 [==============================] - 1s 43ms/step - loss: 0.0838 - accuracy: 0.9667 - val_loss: 4.3184 - val_accuracy: 0.1318\n",
            "Epoch 90/100\n",
            "19/19 [==============================] - 1s 48ms/step - loss: 0.0918 - accuracy: 0.9650 - val_loss: 4.3574 - val_accuracy: 0.1047\n",
            "Epoch 91/100\n",
            "19/19 [==============================] - 1s 45ms/step - loss: 0.0822 - accuracy: 0.9733 - val_loss: 4.4574 - val_accuracy: 0.1124\n",
            "Epoch 92/100\n",
            "19/19 [==============================] - 1s 45ms/step - loss: 0.0710 - accuracy: 0.9767 - val_loss: 4.5102 - val_accuracy: 0.1124\n",
            "Epoch 93/100\n",
            "19/19 [==============================] - 1s 42ms/step - loss: 0.0694 - accuracy: 0.9700 - val_loss: 4.4990 - val_accuracy: 0.1085\n",
            "Epoch 94/100\n",
            "19/19 [==============================] - 1s 45ms/step - loss: 0.0511 - accuracy: 0.9783 - val_loss: 4.8509 - val_accuracy: 0.0930\n",
            "Epoch 95/100\n",
            "19/19 [==============================] - 1s 50ms/step - loss: 0.0744 - accuracy: 0.9700 - val_loss: 4.6860 - val_accuracy: 0.1085\n",
            "Epoch 96/100\n",
            "19/19 [==============================] - 1s 44ms/step - loss: 0.0857 - accuracy: 0.9667 - val_loss: 4.7805 - val_accuracy: 0.1008\n",
            "Epoch 97/100\n",
            "19/19 [==============================] - 1s 41ms/step - loss: 0.0694 - accuracy: 0.9717 - val_loss: 4.5805 - val_accuracy: 0.1124\n",
            "Epoch 98/100\n",
            "19/19 [==============================] - 1s 40ms/step - loss: 0.0693 - accuracy: 0.9700 - val_loss: 4.6792 - val_accuracy: 0.1163\n",
            "Epoch 99/100\n",
            "19/19 [==============================] - 1s 39ms/step - loss: 0.1029 - accuracy: 0.9650 - val_loss: 4.4310 - val_accuracy: 0.1047\n",
            "Epoch 100/100\n",
            "19/19 [==============================] - 1s 40ms/step - loss: 0.0950 - accuracy: 0.9533 - val_loss: 4.6455 - val_accuracy: 0.0930\n"
          ]
        }
      ]
    },
    {
      "cell_type": "code",
      "source": [
        ""
      ],
      "metadata": {
        "id": "P_kFipeFTu36"
      },
      "execution_count": 24,
      "outputs": []
    }
  ]
}